{
  "nbformat": 4,
  "nbformat_minor": 0,
  "metadata": {
    "colab": {
      "name": "Pregunta1.ipynb",
      "private_outputs": true,
      "provenance": [],
      "collapsed_sections": [],
      "authorship_tag": "ABX9TyM0fh+aGzAfa/YqemM546gi",
      "include_colab_link": true
    },
    "kernelspec": {
      "name": "python3",
      "display_name": "Python 3"
    },
    "language_info": {
      "name": "python"
    }
  },
  "cells": [
    {
      "cell_type": "markdown",
      "metadata": {
        "id": "view-in-github",
        "colab_type": "text"
      },
      "source": [
        "<a href=\"https://colab.research.google.com/github/JorgeLMF/PC2-/blob/main/Pregunta1.ipynb\" target=\"_parent\"><img src=\"https://colab.research.google.com/assets/colab-badge.svg\" alt=\"Open In Colab\"/></a>"
      ]
    },
    {
      "cell_type": "code",
      "metadata": {
        "id": "NxuunzIOb22V"
      },
      "source": [
        "memo = []\n",
        "for i in range(50):\n",
        "  memo.append([-1]*5)"
      ],
      "execution_count": null,
      "outputs": []
    },
    {
      "cell_type": "code",
      "metadata": {
        "id": "I3VMXTeQRneb"
      },
      "source": [
        "monedas = 5\n",
        "\n",
        "kilates = [18,16,20,17,15]\n",
        "valormonedas = [1,2,5,10,20]"
      ],
      "execution_count": null,
      "outputs": []
    },
    {
      "cell_type": "code",
      "metadata": {
        "id": "RJ1a-bSmSueL"
      },
      "source": [
        "def cambio(peso_monedas, indice_monedas):\n",
        "\n",
        "  if(peso_monedas == 0):\n",
        "    return 0\n",
        "  \n",
        "  if(indice_monedas >= monedas):\n",
        "    return 0\n",
        "\n",
        "  if(memo[peso_monedas][indice_monedas] != -1): \n",
        "    return memo[peso_monedas][indice_monedas]\n",
        "  \n",
        "  respuesta = 0\n",
        "\n",
        "  if(kilates[indice_monedas] > peso_monedas):\n",
        "      respuesta = cambio(peso_monedas, indice_monedas + 1) \n",
        "  \n",
        "  else:\n",
        "    tomo = valormonedas[indice_monedas] + cambio(peso_monedas - kilates[indice_monedas], indice_monedas + 1)\n",
        "    no_tomo = cambio(peso_monedas, indice_monedas + 1)\n",
        "\n",
        "    \n",
        "    respuesta = max(tomo, no_tomo)\n",
        "\n",
        "  \n",
        "  memo[peso_monedas][indice_monedas] = respuesta\n",
        "\n",
        "  \n",
        "  return memo[peso_monedas][indice_monedas]\n"
      ],
      "execution_count": null,
      "outputs": []
    },
    {
      "cell_type": "code",
      "metadata": {
        "id": "od4ur0e9Z1S5"
      },
      "source": [
        "intercambio = cambio(15, 0)"
      ],
      "execution_count": null,
      "outputs": []
    },
    {
      "cell_type": "code",
      "metadata": {
        "id": "wDc1hdLyaQmT"
      },
      "source": [
        "print(intercambio)"
      ],
      "execution_count": null,
      "outputs": []
    }
  ]
}